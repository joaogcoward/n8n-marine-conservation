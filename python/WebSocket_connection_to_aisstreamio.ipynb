{
  "cells": [
    {
      "cell_type": "code",
      "execution_count": null,
      "metadata": {
        "id": "xcMRqhorxH1b"
      },
      "outputs": [],
      "source": [
        "!pip install websockets requests"
      ]
    },
    {
      "cell_type": "code",
      "execution_count": null,
      "metadata": {
        "id": "URSousoSyOoA"
      },
      "outputs": [],
      "source": [
        "import asyncio\n",
        "import websockets\n",
        "import json\n",
        "import requests\n",
        "import time\n",
        "\n",
        "# --- Your Configuration ---\n",
        "YOUR_API_KEY = \"API KEY HERE",
        "N8N_WEBHOOK_URL = \"n8n webhook url here",
        "\n",
        "# Bounding Boxes for Raja Ampat and surrounding shipping lanes\n",
        "# Each bounding box is in the format [[min_lat, min_lon], [max_lat, max_lon]]\n",
        "# We will use an array to subscribe to all of them at once.\n",
        "BOUNDING_BOXES = [\n",
        "    # 1. Main Raja Ampat Conservation Area\n",
        "    [[-3.0, 129.0], [0.5, 132.0]],\n",
        "    # 2. Shipping lane near Sorong, Indonesia (major port)\n",
        "    [[-1.0, 131.0], [0.0, 132.0]],\n",
        "    # 3. Wider shipping channel approaching the region\n",
        "    [[-2.0, 128.0], [1.0, 130.0]]\n",
        "]\n",
        "\n",
        "async def listen_to_ais():\n",
        "    uri = \"wss://stream.aisstream.io/v0/stream\"\n",
        "\n",
        "    # This is the corrected JSON payload based on the official GitHub issue\n",
        "    subscribe_message = {\n",
        "        \"APIKey\": YOUR_API_KEY,\n",
        "        \"BoundingBoxes\": BOUNDING_BOXES\n",
        "    }\n",
        "\n",
        "    while True:\n",
        "        try:\n",
        "            async with websockets.connect(uri) as websocket:\n",
        "                await websocket.send(json.dumps(subscribe_message))\n",
        "                print(\"Subscribed to AIS stream. Listening for messages...\")\n",
        "\n",
        "                while True:\n",
        "                    try:\n",
        "                        message = await asyncio.wait_for(websocket.recv(), timeout=30)\n",
        "                        data = json.loads(message)\n",
        "\n",
        "                        if 'ErrorMessage' not in data and 'MessageType' in data:\n",
        "                            requests.post(N8N_WEBHOOK_URL, json=data)\n",
        "                            print(\"Message forwarded to n8n.\")\n",
        "                        else:\n",
        "                            print(\"Received non-vessel message (or error):\", data)\n",
        "\n",
        "                    except asyncio.TimeoutError:\n",
        "                        print(\"No message received in 30 seconds. Pinging to keep connection alive...\")\n",
        "                        await websocket.ping()\n",
        "                    except json.JSONDecodeError:\n",
        "                        print(\"Received non-JSON message.\")\n",
        "                    except websockets.exceptions.ConnectionClosed:\n",
        "                        print(\"Connection closed by server.\")\n",
        "                        break\n",
        "        except Exception as e:\n",
        "            print(f\"Connection failed or interrupted: {e}\")\n",
        "            print(\"Will attempt to reconnect in 10 seconds.\")\n",
        "            time.sleep(10)\n",
        "\n",
        "await listen_to_ais()"
      ]
    }
  ],
  "metadata": {
    "colab": {
      "provenance": []
    },
    "kernelspec": {
      "display_name": "Python 3",
      "name": "python3"
    },
    "language_info": {
      "name": "python"
    }
  },
  "nbformat": 4,
  "nbformat_minor": 0
}
