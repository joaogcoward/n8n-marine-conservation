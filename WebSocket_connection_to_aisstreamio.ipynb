{
  "cells": [
    {
      "cell_type": "markdown",
      "metadata": {
        "id": "view-in-github",
        "colab_type": "text"
      },
      "source": [
        "<a href=\"https://colab.research.google.com/github/joaogcoward/n8n-marine-conservation/blob/main/WebSocket_connection_to_aisstreamio.ipynb\" target=\"_parent\"><img src=\"https://colab.research.google.com/assets/colab-badge.svg\" alt=\"Open In Colab\"/></a>"
      ]
    },
    {
      "cell_type": "code",
      "execution_count": 14,
      "metadata": {
        "colab": {
          "base_uri": "https://localhost:8080/"
        },
        "id": "xcMRqhorxH1b",
        "outputId": "a722c6c2-d3a6-4ec9-9633-5a92a902a776"
      },
      "outputs": [
        {
          "output_type": "stream",
          "name": "stdout",
          "text": [
            "Requirement already satisfied: websockets in /usr/local/lib/python3.12/dist-packages (15.0.1)\n",
            "Requirement already satisfied: requests in /usr/local/lib/python3.12/dist-packages (2.32.4)\n",
            "Requirement already satisfied: charset_normalizer<4,>=2 in /usr/local/lib/python3.12/dist-packages (from requests) (3.4.3)\n",
            "Requirement already satisfied: idna<4,>=2.5 in /usr/local/lib/python3.12/dist-packages (from requests) (3.10)\n",
            "Requirement already satisfied: urllib3<3,>=1.21.1 in /usr/local/lib/python3.12/dist-packages (from requests) (2.5.0)\n",
            "Requirement already satisfied: certifi>=2017.4.17 in /usr/local/lib/python3.12/dist-packages (from requests) (2025.8.3)\n"
          ]
        }
      ],
      "source": [
        "!pip install websockets requests"
      ]
    },
    {
      "cell_type": "code",
      "execution_count": 15,
      "metadata": {
        "colab": {
          "base_uri": "https://localhost:8080/",
          "height": 1000
        },
        "id": "URSousoSyOoA",
        "outputId": "6e934a03-bf5f-4913-bfb9-a741f94157e3"
      },
      "outputs": [
        {
          "output_type": "stream",
          "name": "stdout",
          "text": [
            "Subscribed to AIS stream. Listening for messages...\n",
            "No message received in 30 seconds. Pinging to keep connection alive...\n",
            "No message received in 30 seconds. Pinging to keep connection alive...\n",
            "No message received in 30 seconds. Pinging to keep connection alive...\n",
            "No message received in 30 seconds. Pinging to keep connection alive...\n",
            "No message received in 30 seconds. Pinging to keep connection alive...\n",
            "No message received in 30 seconds. Pinging to keep connection alive...\n",
            "No message received in 30 seconds. Pinging to keep connection alive...\n",
            "No message received in 30 seconds. Pinging to keep connection alive...\n",
            "No message received in 30 seconds. Pinging to keep connection alive...\n",
            "No message received in 30 seconds. Pinging to keep connection alive...\n",
            "No message received in 30 seconds. Pinging to keep connection alive...\n",
            "No message received in 30 seconds. Pinging to keep connection alive...\n",
            "No message received in 30 seconds. Pinging to keep connection alive...\n",
            "No message received in 30 seconds. Pinging to keep connection alive...\n",
            "No message received in 30 seconds. Pinging to keep connection alive...\n",
            "No message received in 30 seconds. Pinging to keep connection alive...\n",
            "No message received in 30 seconds. Pinging to keep connection alive...\n",
            "No message received in 30 seconds. Pinging to keep connection alive...\n",
            "No message received in 30 seconds. Pinging to keep connection alive...\n",
            "No message received in 30 seconds. Pinging to keep connection alive...\n",
            "No message received in 30 seconds. Pinging to keep connection alive...\n",
            "No message received in 30 seconds. Pinging to keep connection alive...\n",
            "No message received in 30 seconds. Pinging to keep connection alive...\n",
            "No message received in 30 seconds. Pinging to keep connection alive...\n",
            "No message received in 30 seconds. Pinging to keep connection alive...\n",
            "No message received in 30 seconds. Pinging to keep connection alive...\n",
            "No message received in 30 seconds. Pinging to keep connection alive...\n",
            "No message received in 30 seconds. Pinging to keep connection alive...\n",
            "No message received in 30 seconds. Pinging to keep connection alive...\n",
            "No message received in 30 seconds. Pinging to keep connection alive...\n",
            "No message received in 30 seconds. Pinging to keep connection alive...\n",
            "No message received in 30 seconds. Pinging to keep connection alive...\n",
            "No message received in 30 seconds. Pinging to keep connection alive...\n",
            "No message received in 30 seconds. Pinging to keep connection alive...\n",
            "No message received in 30 seconds. Pinging to keep connection alive...\n",
            "No message received in 30 seconds. Pinging to keep connection alive...\n",
            "No message received in 30 seconds. Pinging to keep connection alive...\n",
            "No message received in 30 seconds. Pinging to keep connection alive...\n",
            "No message received in 30 seconds. Pinging to keep connection alive...\n",
            "No message received in 30 seconds. Pinging to keep connection alive...\n",
            "No message received in 30 seconds. Pinging to keep connection alive...\n",
            "No message received in 30 seconds. Pinging to keep connection alive...\n",
            "No message received in 30 seconds. Pinging to keep connection alive...\n",
            "No message received in 30 seconds. Pinging to keep connection alive...\n"
          ]
        },
        {
          "output_type": "error",
          "ename": "CancelledError",
          "evalue": "",
          "traceback": [
            "\u001b[0;31m---------------------------------------------------------------------------\u001b[0m",
            "\u001b[0;31mCancelledError\u001b[0m                            Traceback (most recent call last)",
            "\u001b[0;32m/tmp/ipython-input-3488582399.py\u001b[0m in \u001b[0;36m<cell line: 1>\u001b[0;34m()\u001b[0m\n\u001b[1;32m     60\u001b[0m             \u001b[0mtime\u001b[0m\u001b[0;34m.\u001b[0m\u001b[0msleep\u001b[0m\u001b[0;34m(\u001b[0m\u001b[0;36m10\u001b[0m\u001b[0;34m)\u001b[0m\u001b[0;34m\u001b[0m\u001b[0;34m\u001b[0m\u001b[0m\n\u001b[1;32m     61\u001b[0m \u001b[0;34m\u001b[0m\u001b[0m\n\u001b[0;32m---> 62\u001b[0;31m \u001b[0;32mawait\u001b[0m \u001b[0mlisten_to_ais\u001b[0m\u001b[0;34m(\u001b[0m\u001b[0;34m)\u001b[0m\u001b[0;34m\u001b[0m\u001b[0;34m\u001b[0m\u001b[0m\n\u001b[0m",
            "\u001b[0;32m/tmp/ipython-input-3488582399.py\u001b[0m in \u001b[0;36mlisten_to_ais\u001b[0;34m()\u001b[0m\n\u001b[1;32m     38\u001b[0m                 \u001b[0;32mwhile\u001b[0m \u001b[0;32mTrue\u001b[0m\u001b[0;34m:\u001b[0m\u001b[0;34m\u001b[0m\u001b[0;34m\u001b[0m\u001b[0m\n\u001b[1;32m     39\u001b[0m                     \u001b[0;32mtry\u001b[0m\u001b[0;34m:\u001b[0m\u001b[0;34m\u001b[0m\u001b[0;34m\u001b[0m\u001b[0m\n\u001b[0;32m---> 40\u001b[0;31m                         \u001b[0mmessage\u001b[0m \u001b[0;34m=\u001b[0m \u001b[0;32mawait\u001b[0m \u001b[0masyncio\u001b[0m\u001b[0;34m.\u001b[0m\u001b[0mwait_for\u001b[0m\u001b[0;34m(\u001b[0m\u001b[0mwebsocket\u001b[0m\u001b[0;34m.\u001b[0m\u001b[0mrecv\u001b[0m\u001b[0;34m(\u001b[0m\u001b[0;34m)\u001b[0m\u001b[0;34m,\u001b[0m \u001b[0mtimeout\u001b[0m\u001b[0;34m=\u001b[0m\u001b[0;36m30\u001b[0m\u001b[0;34m)\u001b[0m\u001b[0;34m\u001b[0m\u001b[0;34m\u001b[0m\u001b[0m\n\u001b[0m\u001b[1;32m     41\u001b[0m                         \u001b[0mdata\u001b[0m \u001b[0;34m=\u001b[0m \u001b[0mjson\u001b[0m\u001b[0;34m.\u001b[0m\u001b[0mloads\u001b[0m\u001b[0;34m(\u001b[0m\u001b[0mmessage\u001b[0m\u001b[0;34m)\u001b[0m\u001b[0;34m\u001b[0m\u001b[0;34m\u001b[0m\u001b[0m\n\u001b[1;32m     42\u001b[0m \u001b[0;34m\u001b[0m\u001b[0m\n",
            "\u001b[0;32m/usr/lib/python3.12/asyncio/tasks.py\u001b[0m in \u001b[0;36mwait_for\u001b[0;34m(fut, timeout)\u001b[0m\n\u001b[1;32m    518\u001b[0m \u001b[0;34m\u001b[0m\u001b[0m\n\u001b[1;32m    519\u001b[0m     \u001b[0;32masync\u001b[0m \u001b[0;32mwith\u001b[0m \u001b[0mtimeouts\u001b[0m\u001b[0;34m.\u001b[0m\u001b[0mtimeout\u001b[0m\u001b[0;34m(\u001b[0m\u001b[0mtimeout\u001b[0m\u001b[0;34m)\u001b[0m\u001b[0;34m:\u001b[0m\u001b[0;34m\u001b[0m\u001b[0;34m\u001b[0m\u001b[0m\n\u001b[0;32m--> 520\u001b[0;31m         \u001b[0;32mreturn\u001b[0m \u001b[0;32mawait\u001b[0m \u001b[0mfut\u001b[0m\u001b[0;34m\u001b[0m\u001b[0;34m\u001b[0m\u001b[0m\n\u001b[0m\u001b[1;32m    521\u001b[0m \u001b[0;34m\u001b[0m\u001b[0m\n\u001b[1;32m    522\u001b[0m \u001b[0;32masync\u001b[0m \u001b[0;32mdef\u001b[0m \u001b[0m_wait\u001b[0m\u001b[0;34m(\u001b[0m\u001b[0mfs\u001b[0m\u001b[0;34m,\u001b[0m \u001b[0mtimeout\u001b[0m\u001b[0;34m,\u001b[0m \u001b[0mreturn_when\u001b[0m\u001b[0;34m,\u001b[0m \u001b[0mloop\u001b[0m\u001b[0;34m)\u001b[0m\u001b[0;34m:\u001b[0m\u001b[0;34m\u001b[0m\u001b[0;34m\u001b[0m\u001b[0m\n",
            "\u001b[0;32m/usr/local/lib/python3.12/dist-packages/websockets/asyncio/connection.py\u001b[0m in \u001b[0;36mrecv\u001b[0;34m(self, decode)\u001b[0m\n\u001b[1;32m    301\u001b[0m         \"\"\"\n\u001b[1;32m    302\u001b[0m         \u001b[0;32mtry\u001b[0m\u001b[0;34m:\u001b[0m\u001b[0;34m\u001b[0m\u001b[0;34m\u001b[0m\u001b[0m\n\u001b[0;32m--> 303\u001b[0;31m             \u001b[0;32mreturn\u001b[0m \u001b[0;32mawait\u001b[0m \u001b[0mself\u001b[0m\u001b[0;34m.\u001b[0m\u001b[0mrecv_messages\u001b[0m\u001b[0;34m.\u001b[0m\u001b[0mget\u001b[0m\u001b[0;34m(\u001b[0m\u001b[0mdecode\u001b[0m\u001b[0;34m)\u001b[0m\u001b[0;34m\u001b[0m\u001b[0;34m\u001b[0m\u001b[0m\n\u001b[0m\u001b[1;32m    304\u001b[0m         \u001b[0;32mexcept\u001b[0m \u001b[0mEOFError\u001b[0m\u001b[0;34m:\u001b[0m\u001b[0;34m\u001b[0m\u001b[0;34m\u001b[0m\u001b[0m\n\u001b[1;32m    305\u001b[0m             \u001b[0;32mpass\u001b[0m\u001b[0;34m\u001b[0m\u001b[0;34m\u001b[0m\u001b[0m\n",
            "\u001b[0;32m/usr/local/lib/python3.12/dist-packages/websockets/asyncio/messages.py\u001b[0m in \u001b[0;36mget\u001b[0;34m(self, decode)\u001b[0m\n\u001b[1;32m    157\u001b[0m         \u001b[0;32mtry\u001b[0m\u001b[0;34m:\u001b[0m\u001b[0;34m\u001b[0m\u001b[0;34m\u001b[0m\u001b[0m\n\u001b[1;32m    158\u001b[0m             \u001b[0;31m# First frame\u001b[0m\u001b[0;34m\u001b[0m\u001b[0;34m\u001b[0m\u001b[0m\n\u001b[0;32m--> 159\u001b[0;31m             \u001b[0mframe\u001b[0m \u001b[0;34m=\u001b[0m \u001b[0;32mawait\u001b[0m \u001b[0mself\u001b[0m\u001b[0;34m.\u001b[0m\u001b[0mframes\u001b[0m\u001b[0;34m.\u001b[0m\u001b[0mget\u001b[0m\u001b[0;34m(\u001b[0m\u001b[0;32mnot\u001b[0m \u001b[0mself\u001b[0m\u001b[0;34m.\u001b[0m\u001b[0mclosed\u001b[0m\u001b[0;34m)\u001b[0m\u001b[0;34m\u001b[0m\u001b[0;34m\u001b[0m\u001b[0m\n\u001b[0m\u001b[1;32m    160\u001b[0m             \u001b[0mself\u001b[0m\u001b[0;34m.\u001b[0m\u001b[0mmaybe_resume\u001b[0m\u001b[0;34m(\u001b[0m\u001b[0;34m)\u001b[0m\u001b[0;34m\u001b[0m\u001b[0;34m\u001b[0m\u001b[0m\n\u001b[1;32m    161\u001b[0m             \u001b[0;32massert\u001b[0m \u001b[0mframe\u001b[0m\u001b[0;34m.\u001b[0m\u001b[0mopcode\u001b[0m \u001b[0;32mis\u001b[0m \u001b[0mOP_TEXT\u001b[0m \u001b[0;32mor\u001b[0m \u001b[0mframe\u001b[0m\u001b[0;34m.\u001b[0m\u001b[0mopcode\u001b[0m \u001b[0;32mis\u001b[0m \u001b[0mOP_BINARY\u001b[0m\u001b[0;34m\u001b[0m\u001b[0;34m\u001b[0m\u001b[0m\n",
            "\u001b[0;32m/usr/local/lib/python3.12/dist-packages/websockets/asyncio/messages.py\u001b[0m in \u001b[0;36mget\u001b[0;34m(self, block)\u001b[0m\n\u001b[1;32m     49\u001b[0m             \u001b[0mself\u001b[0m\u001b[0;34m.\u001b[0m\u001b[0mget_waiter\u001b[0m \u001b[0;34m=\u001b[0m \u001b[0mself\u001b[0m\u001b[0;34m.\u001b[0m\u001b[0mloop\u001b[0m\u001b[0;34m.\u001b[0m\u001b[0mcreate_future\u001b[0m\u001b[0;34m(\u001b[0m\u001b[0;34m)\u001b[0m\u001b[0;34m\u001b[0m\u001b[0;34m\u001b[0m\u001b[0m\n\u001b[1;32m     50\u001b[0m             \u001b[0;32mtry\u001b[0m\u001b[0;34m:\u001b[0m\u001b[0;34m\u001b[0m\u001b[0;34m\u001b[0m\u001b[0m\n\u001b[0;32m---> 51\u001b[0;31m                 \u001b[0;32mawait\u001b[0m \u001b[0mself\u001b[0m\u001b[0;34m.\u001b[0m\u001b[0mget_waiter\u001b[0m\u001b[0;34m\u001b[0m\u001b[0;34m\u001b[0m\u001b[0m\n\u001b[0m\u001b[1;32m     52\u001b[0m             \u001b[0;32mfinally\u001b[0m\u001b[0;34m:\u001b[0m\u001b[0;34m\u001b[0m\u001b[0;34m\u001b[0m\u001b[0m\n\u001b[1;32m     53\u001b[0m                 \u001b[0mself\u001b[0m\u001b[0;34m.\u001b[0m\u001b[0mget_waiter\u001b[0m\u001b[0;34m.\u001b[0m\u001b[0mcancel\u001b[0m\u001b[0;34m(\u001b[0m\u001b[0;34m)\u001b[0m\u001b[0;34m\u001b[0m\u001b[0;34m\u001b[0m\u001b[0m\n",
            "\u001b[0;31mCancelledError\u001b[0m: "
          ]
        }
      ],
      "source": [
        "import asyncio\n",
        "import websockets\n",
        "import json\n",
        "import requests\n",
        "import time\n",
        "\n",
        "# --- Your Configuration ---\n",
        "YOUR_API_KEY = \"a8b65e26ed61485dc6828fc3f53021d9711cac37\"\n",
        "N8N_WEBHOOK_URL = \"https://joagc.app.n8n.cloud/webhook/85ffeef7-c116-4c02-8be8-a8f4748debbb\"\n",
        "\n",
        "# Bounding Boxes for Raja Ampat and surrounding shipping lanes\n",
        "# Each bounding box is in the format [[min_lat, min_lon], [max_lat, max_lon]]\n",
        "# We will use an array to subscribe to all of them at once.\n",
        "BOUNDING_BOXES = [\n",
        "    # 1. Main Raja Ampat Conservation Area\n",
        "    [[-3.0, 129.0], [0.5, 132.0]],\n",
        "    # 2. Shipping lane near Sorong, Indonesia (major port)\n",
        "    [[-1.0, 131.0], [0.0, 132.0]],\n",
        "    # 3. Wider shipping channel approaching the region\n",
        "    [[-2.0, 128.0], [1.0, 130.0]]\n",
        "]\n",
        "\n",
        "async def listen_to_ais():\n",
        "    uri = \"wss://stream.aisstream.io/v0/stream\"\n",
        "\n",
        "    # This is the corrected JSON payload based on the official GitHub issue\n",
        "    subscribe_message = {\n",
        "        \"APIKey\": YOUR_API_KEY,\n",
        "        \"BoundingBoxes\": BOUNDING_BOXES\n",
        "    }\n",
        "\n",
        "    while True:\n",
        "        try:\n",
        "            async with websockets.connect(uri) as websocket:\n",
        "                await websocket.send(json.dumps(subscribe_message))\n",
        "                print(\"Subscribed to AIS stream. Listening for messages...\")\n",
        "\n",
        "                while True:\n",
        "                    try:\n",
        "                        message = await asyncio.wait_for(websocket.recv(), timeout=30)\n",
        "                        data = json.loads(message)\n",
        "\n",
        "                        if 'ErrorMessage' not in data and 'MessageType' in data:\n",
        "                            requests.post(N8N_WEBHOOK_URL, json=data)\n",
        "                            print(\"Message forwarded to n8n.\")\n",
        "                        else:\n",
        "                            print(\"Received non-vessel message (or error):\", data)\n",
        "\n",
        "                    except asyncio.TimeoutError:\n",
        "                        print(\"No message received in 30 seconds. Pinging to keep connection alive...\")\n",
        "                        await websocket.ping()\n",
        "                    except json.JSONDecodeError:\n",
        "                        print(\"Received non-JSON message.\")\n",
        "                    except websockets.exceptions.ConnectionClosed:\n",
        "                        print(\"Connection closed by server.\")\n",
        "                        break\n",
        "        except Exception as e:\n",
        "            print(f\"Connection failed or interrupted: {e}\")\n",
        "            print(\"Will attempt to reconnect in 10 seconds.\")\n",
        "            time.sleep(10)\n",
        "\n",
        "await listen_to_ais()"
      ]
    }
  ],
  "metadata": {
    "colab": {
      "provenance": [],
      "authorship_tag": "ABX9TyOGVJXLFErkoo8N32CQVfp/",
      "include_colab_link": true
    },
    "kernelspec": {
      "display_name": "Python 3",
      "name": "python3"
    },
    "language_info": {
      "name": "python"
    }
  },
  "nbformat": 4,
  "nbformat_minor": 0
}